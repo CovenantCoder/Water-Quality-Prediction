{
 "cells": [
  {
   "cell_type": "code",
   "execution_count": 1,
   "id": "36b3fa2e",
   "metadata": {
    "_cell_guid": "b1076dfc-b9ad-4769-8c92-a6c4dae69d19",
    "_uuid": "8f2839f25d086af736a60e9eeb907d3b93b6e0e5",
    "execution": {
     "iopub.execute_input": "2021-08-18T08:08:54.718439Z",
     "iopub.status.busy": "2021-08-18T08:08:54.716717Z",
     "iopub.status.idle": "2021-08-18T08:08:54.744648Z",
     "shell.execute_reply": "2021-08-18T08:08:54.743535Z",
     "shell.execute_reply.started": "2021-08-18T08:07:03.644811Z"
    },
    "papermill": {
     "duration": 0.131653,
     "end_time": "2021-08-18T08:08:54.744892",
     "exception": false,
     "start_time": "2021-08-18T08:08:54.613239",
     "status": "completed"
    },
    "tags": []
   },
   "outputs": [
    {
     "name": "stderr",
     "output_type": "stream",
     "text": [
      "C:\\Users\\JO Ron\\anaconda3\\lib\\site-packages\\scipy\\__init__.py:146: UserWarning: A NumPy version >=1.16.5 and <1.23.0 is required for this version of SciPy (detected version 1.26.2\n",
      "  warnings.warn(f\"A NumPy version >={np_minversion} and <{np_maxversion}\"\n"
     ]
    },
    {
     "name": "stdout",
     "output_type": "stream",
     "text": [
      "WARNING:tensorflow:From C:\\Users\\JO Ron\\anaconda3\\lib\\site-packages\\keras\\src\\losses.py:2976: The name tf.losses.sparse_softmax_cross_entropy is deprecated. Please use tf.compat.v1.losses.sparse_softmax_cross_entropy instead.\n",
      "\n"
     ]
    }
   ],
   "source": [
    "import numpy as np\n",
    "import pandas as pd\n",
    "import matplotlib.pyplot as plt\n",
    "import seaborn as sns\n",
    "%matplotlib inline\n",
    "import plotly.express as px\n",
    "import warnings\n",
    "warnings.filterwarnings('ignore')\n",
    "from sklearn.preprocessing import StandardScaler\n",
    "from sklearn.linear_model import LogisticRegression\n",
    "from sklearn.linear_model import LinearRegression\n",
    "from sklearn.tree import DecisionTreeClassifier\n",
    "from sklearn.tree import DecisionTreeRegressor\n",
    "from sklearn.ensemble import RandomForestClassifier\n",
    "from sklearn.ensemble import RandomForestRegressor\n",
    "from xgboost import XGBClassifier\n",
    "from sklearn.neighbors import KNeighborsClassifier\n",
    "from sklearn.neighbors import KNeighborsRegressor\n",
    "from sklearn.svm import SVC, LinearSVC\n",
    "from sklearn.svm import SVR\n",
    "from sklearn.ensemble import AdaBoostClassifier\n",
    "from sklearn.ensemble import AdaBoostRegressor\n",
    "from xgboost import XGBRegressor\n",
    "from sklearn.metrics import mean_squared_error, mean_absolute_error\n",
    "import tensorflow as tf\n",
    "from tensorflow.keras.models import Sequential\n",
    "from tensorflow.keras.layers import Dense"
   ]
  },
  {
   "cell_type": "code",
   "execution_count": 2,
   "id": "022f3787",
   "metadata": {
    "execution": {
     "iopub.execute_input": "2021-08-18T08:08:55.396346Z",
     "iopub.status.busy": "2021-08-18T08:08:55.395630Z",
     "iopub.status.idle": "2021-08-18T08:08:55.520119Z",
     "shell.execute_reply": "2021-08-18T08:08:55.519398Z",
     "shell.execute_reply.started": "2021-08-18T08:07:03.725017Z"
    },
    "papermill": {
     "duration": 0.209352,
     "end_time": "2021-08-18T08:08:55.520270",
     "exception": false,
     "start_time": "2021-08-18T08:08:55.310918",
     "status": "completed"
    },
    "tags": []
   },
   "outputs": [
    {
     "data": {
      "text/html": [
       "<div>\n",
       "<style scoped>\n",
       "    .dataframe tbody tr th:only-of-type {\n",
       "        vertical-align: middle;\n",
       "    }\n",
       "\n",
       "    .dataframe tbody tr th {\n",
       "        vertical-align: top;\n",
       "    }\n",
       "\n",
       "    .dataframe thead th {\n",
       "        text-align: right;\n",
       "    }\n",
       "</style>\n",
       "<table border=\"1\" class=\"dataframe\">\n",
       "  <thead>\n",
       "    <tr style=\"text-align: right;\">\n",
       "      <th></th>\n",
       "      <th>ph</th>\n",
       "      <th>Hardness</th>\n",
       "      <th>Solids</th>\n",
       "      <th>Chloramines</th>\n",
       "      <th>Sulfate</th>\n",
       "      <th>Conductivity</th>\n",
       "      <th>Organic_carbon</th>\n",
       "      <th>Trihalomethanes</th>\n",
       "      <th>Turbidity</th>\n",
       "      <th>Potability</th>\n",
       "    </tr>\n",
       "  </thead>\n",
       "  <tbody>\n",
       "    <tr>\n",
       "      <th>0</th>\n",
       "      <td>NaN</td>\n",
       "      <td>204.890455</td>\n",
       "      <td>20791.318981</td>\n",
       "      <td>7.300212</td>\n",
       "      <td>368.516441</td>\n",
       "      <td>564.308654</td>\n",
       "      <td>10.379783</td>\n",
       "      <td>86.990970</td>\n",
       "      <td>2.963135</td>\n",
       "      <td>0</td>\n",
       "    </tr>\n",
       "    <tr>\n",
       "      <th>1</th>\n",
       "      <td>3.716080</td>\n",
       "      <td>129.422921</td>\n",
       "      <td>18630.057858</td>\n",
       "      <td>6.635246</td>\n",
       "      <td>NaN</td>\n",
       "      <td>592.885359</td>\n",
       "      <td>15.180013</td>\n",
       "      <td>56.329076</td>\n",
       "      <td>4.500656</td>\n",
       "      <td>0</td>\n",
       "    </tr>\n",
       "    <tr>\n",
       "      <th>2</th>\n",
       "      <td>8.099124</td>\n",
       "      <td>224.236259</td>\n",
       "      <td>19909.541732</td>\n",
       "      <td>9.275884</td>\n",
       "      <td>NaN</td>\n",
       "      <td>418.606213</td>\n",
       "      <td>16.868637</td>\n",
       "      <td>66.420093</td>\n",
       "      <td>3.055934</td>\n",
       "      <td>0</td>\n",
       "    </tr>\n",
       "    <tr>\n",
       "      <th>3</th>\n",
       "      <td>8.316766</td>\n",
       "      <td>214.373394</td>\n",
       "      <td>22018.417441</td>\n",
       "      <td>8.059332</td>\n",
       "      <td>356.886136</td>\n",
       "      <td>363.266516</td>\n",
       "      <td>18.436524</td>\n",
       "      <td>100.341674</td>\n",
       "      <td>4.628771</td>\n",
       "      <td>0</td>\n",
       "    </tr>\n",
       "    <tr>\n",
       "      <th>4</th>\n",
       "      <td>9.092223</td>\n",
       "      <td>181.101509</td>\n",
       "      <td>17978.986339</td>\n",
       "      <td>6.546600</td>\n",
       "      <td>310.135738</td>\n",
       "      <td>398.410813</td>\n",
       "      <td>11.558279</td>\n",
       "      <td>31.997993</td>\n",
       "      <td>4.075075</td>\n",
       "      <td>0</td>\n",
       "    </tr>\n",
       "    <tr>\n",
       "      <th>...</th>\n",
       "      <td>...</td>\n",
       "      <td>...</td>\n",
       "      <td>...</td>\n",
       "      <td>...</td>\n",
       "      <td>...</td>\n",
       "      <td>...</td>\n",
       "      <td>...</td>\n",
       "      <td>...</td>\n",
       "      <td>...</td>\n",
       "      <td>...</td>\n",
       "    </tr>\n",
       "    <tr>\n",
       "      <th>3271</th>\n",
       "      <td>4.668102</td>\n",
       "      <td>193.681735</td>\n",
       "      <td>47580.991603</td>\n",
       "      <td>7.166639</td>\n",
       "      <td>359.948574</td>\n",
       "      <td>526.424171</td>\n",
       "      <td>13.894419</td>\n",
       "      <td>66.687695</td>\n",
       "      <td>4.435821</td>\n",
       "      <td>1</td>\n",
       "    </tr>\n",
       "    <tr>\n",
       "      <th>3272</th>\n",
       "      <td>7.808856</td>\n",
       "      <td>193.553212</td>\n",
       "      <td>17329.802160</td>\n",
       "      <td>8.061362</td>\n",
       "      <td>NaN</td>\n",
       "      <td>392.449580</td>\n",
       "      <td>19.903225</td>\n",
       "      <td>NaN</td>\n",
       "      <td>2.798243</td>\n",
       "      <td>1</td>\n",
       "    </tr>\n",
       "    <tr>\n",
       "      <th>3273</th>\n",
       "      <td>9.419510</td>\n",
       "      <td>175.762646</td>\n",
       "      <td>33155.578218</td>\n",
       "      <td>7.350233</td>\n",
       "      <td>NaN</td>\n",
       "      <td>432.044783</td>\n",
       "      <td>11.039070</td>\n",
       "      <td>69.845400</td>\n",
       "      <td>3.298875</td>\n",
       "      <td>1</td>\n",
       "    </tr>\n",
       "    <tr>\n",
       "      <th>3274</th>\n",
       "      <td>5.126763</td>\n",
       "      <td>230.603758</td>\n",
       "      <td>11983.869376</td>\n",
       "      <td>6.303357</td>\n",
       "      <td>NaN</td>\n",
       "      <td>402.883113</td>\n",
       "      <td>11.168946</td>\n",
       "      <td>77.488213</td>\n",
       "      <td>4.708658</td>\n",
       "      <td>1</td>\n",
       "    </tr>\n",
       "    <tr>\n",
       "      <th>3275</th>\n",
       "      <td>7.874671</td>\n",
       "      <td>195.102299</td>\n",
       "      <td>17404.177061</td>\n",
       "      <td>7.509306</td>\n",
       "      <td>NaN</td>\n",
       "      <td>327.459760</td>\n",
       "      <td>16.140368</td>\n",
       "      <td>78.698446</td>\n",
       "      <td>2.309149</td>\n",
       "      <td>1</td>\n",
       "    </tr>\n",
       "  </tbody>\n",
       "</table>\n",
       "<p>3276 rows × 10 columns</p>\n",
       "</div>"
      ],
      "text/plain": [
       "            ph    Hardness        Solids  Chloramines     Sulfate  \\\n",
       "0          NaN  204.890455  20791.318981     7.300212  368.516441   \n",
       "1     3.716080  129.422921  18630.057858     6.635246         NaN   \n",
       "2     8.099124  224.236259  19909.541732     9.275884         NaN   \n",
       "3     8.316766  214.373394  22018.417441     8.059332  356.886136   \n",
       "4     9.092223  181.101509  17978.986339     6.546600  310.135738   \n",
       "...        ...         ...           ...          ...         ...   \n",
       "3271  4.668102  193.681735  47580.991603     7.166639  359.948574   \n",
       "3272  7.808856  193.553212  17329.802160     8.061362         NaN   \n",
       "3273  9.419510  175.762646  33155.578218     7.350233         NaN   \n",
       "3274  5.126763  230.603758  11983.869376     6.303357         NaN   \n",
       "3275  7.874671  195.102299  17404.177061     7.509306         NaN   \n",
       "\n",
       "      Conductivity  Organic_carbon  Trihalomethanes  Turbidity  Potability  \n",
       "0       564.308654       10.379783        86.990970   2.963135           0  \n",
       "1       592.885359       15.180013        56.329076   4.500656           0  \n",
       "2       418.606213       16.868637        66.420093   3.055934           0  \n",
       "3       363.266516       18.436524       100.341674   4.628771           0  \n",
       "4       398.410813       11.558279        31.997993   4.075075           0  \n",
       "...            ...             ...              ...        ...         ...  \n",
       "3271    526.424171       13.894419        66.687695   4.435821           1  \n",
       "3272    392.449580       19.903225              NaN   2.798243           1  \n",
       "3273    432.044783       11.039070        69.845400   3.298875           1  \n",
       "3274    402.883113       11.168946        77.488213   4.708658           1  \n",
       "3275    327.459760       16.140368        78.698446   2.309149           1  \n",
       "\n",
       "[3276 rows x 10 columns]"
      ]
     },
     "execution_count": 2,
     "metadata": {},
     "output_type": "execute_result"
    }
   ],
   "source": [
    "df = pd.read_csv(\"water_potability.csv\")\n",
    "df"
   ]
  },
  {
   "cell_type": "code",
   "execution_count": 3,
   "id": "d913149b",
   "metadata": {
    "execution": {
     "iopub.execute_input": "2021-08-18T08:08:55.694107Z",
     "iopub.status.busy": "2021-08-18T08:08:55.693358Z",
     "iopub.status.idle": "2021-08-18T08:08:55.725326Z",
     "shell.execute_reply": "2021-08-18T08:08:55.725897Z",
     "shell.execute_reply.started": "2021-08-18T08:07:03.834978Z"
    },
    "papermill": {
     "duration": 0.12415,
     "end_time": "2021-08-18T08:08:55.726077",
     "exception": false,
     "start_time": "2021-08-18T08:08:55.601927",
     "status": "completed"
    },
    "tags": []
   },
   "outputs": [
    {
     "data": {
      "text/html": [
       "<div>\n",
       "<style scoped>\n",
       "    .dataframe tbody tr th:only-of-type {\n",
       "        vertical-align: middle;\n",
       "    }\n",
       "\n",
       "    .dataframe tbody tr th {\n",
       "        vertical-align: top;\n",
       "    }\n",
       "\n",
       "    .dataframe thead th {\n",
       "        text-align: right;\n",
       "    }\n",
       "</style>\n",
       "<table border=\"1\" class=\"dataframe\">\n",
       "  <thead>\n",
       "    <tr style=\"text-align: right;\">\n",
       "      <th></th>\n",
       "      <th>ph</th>\n",
       "      <th>Hardness</th>\n",
       "      <th>Solids</th>\n",
       "      <th>Chloramines</th>\n",
       "      <th>Sulfate</th>\n",
       "      <th>Conductivity</th>\n",
       "      <th>Organic_carbon</th>\n",
       "      <th>Trihalomethanes</th>\n",
       "      <th>Turbidity</th>\n",
       "      <th>Potability</th>\n",
       "    </tr>\n",
       "  </thead>\n",
       "  <tbody>\n",
       "    <tr>\n",
       "      <th>0</th>\n",
       "      <td>NaN</td>\n",
       "      <td>204.890455</td>\n",
       "      <td>20791.318981</td>\n",
       "      <td>7.300212</td>\n",
       "      <td>368.516441</td>\n",
       "      <td>564.308654</td>\n",
       "      <td>10.379783</td>\n",
       "      <td>86.990970</td>\n",
       "      <td>2.963135</td>\n",
       "      <td>0</td>\n",
       "    </tr>\n",
       "    <tr>\n",
       "      <th>1</th>\n",
       "      <td>3.716080</td>\n",
       "      <td>129.422921</td>\n",
       "      <td>18630.057858</td>\n",
       "      <td>6.635246</td>\n",
       "      <td>NaN</td>\n",
       "      <td>592.885359</td>\n",
       "      <td>15.180013</td>\n",
       "      <td>56.329076</td>\n",
       "      <td>4.500656</td>\n",
       "      <td>0</td>\n",
       "    </tr>\n",
       "    <tr>\n",
       "      <th>2</th>\n",
       "      <td>8.099124</td>\n",
       "      <td>224.236259</td>\n",
       "      <td>19909.541732</td>\n",
       "      <td>9.275884</td>\n",
       "      <td>NaN</td>\n",
       "      <td>418.606213</td>\n",
       "      <td>16.868637</td>\n",
       "      <td>66.420093</td>\n",
       "      <td>3.055934</td>\n",
       "      <td>0</td>\n",
       "    </tr>\n",
       "    <tr>\n",
       "      <th>3</th>\n",
       "      <td>8.316766</td>\n",
       "      <td>214.373394</td>\n",
       "      <td>22018.417441</td>\n",
       "      <td>8.059332</td>\n",
       "      <td>356.886136</td>\n",
       "      <td>363.266516</td>\n",
       "      <td>18.436524</td>\n",
       "      <td>100.341674</td>\n",
       "      <td>4.628771</td>\n",
       "      <td>0</td>\n",
       "    </tr>\n",
       "    <tr>\n",
       "      <th>4</th>\n",
       "      <td>9.092223</td>\n",
       "      <td>181.101509</td>\n",
       "      <td>17978.986339</td>\n",
       "      <td>6.546600</td>\n",
       "      <td>310.135738</td>\n",
       "      <td>398.410813</td>\n",
       "      <td>11.558279</td>\n",
       "      <td>31.997993</td>\n",
       "      <td>4.075075</td>\n",
       "      <td>0</td>\n",
       "    </tr>\n",
       "  </tbody>\n",
       "</table>\n",
       "</div>"
      ],
      "text/plain": [
       "         ph    Hardness        Solids  Chloramines     Sulfate  Conductivity  \\\n",
       "0       NaN  204.890455  20791.318981     7.300212  368.516441    564.308654   \n",
       "1  3.716080  129.422921  18630.057858     6.635246         NaN    592.885359   \n",
       "2  8.099124  224.236259  19909.541732     9.275884         NaN    418.606213   \n",
       "3  8.316766  214.373394  22018.417441     8.059332  356.886136    363.266516   \n",
       "4  9.092223  181.101509  17978.986339     6.546600  310.135738    398.410813   \n",
       "\n",
       "   Organic_carbon  Trihalomethanes  Turbidity  Potability  \n",
       "0       10.379783        86.990970   2.963135           0  \n",
       "1       15.180013        56.329076   4.500656           0  \n",
       "2       16.868637        66.420093   3.055934           0  \n",
       "3       18.436524       100.341674   4.628771           0  \n",
       "4       11.558279        31.997993   4.075075           0  "
      ]
     },
     "execution_count": 3,
     "metadata": {},
     "output_type": "execute_result"
    }
   ],
   "source": [
    "df.head()"
   ]
  },
  {
   "cell_type": "markdown",
   "id": "afc7be83",
   "metadata": {
    "papermill": {
     "duration": 0.08369,
     "end_time": "2021-08-18T08:08:58.709901",
     "exception": false,
     "start_time": "2021-08-18T08:08:58.626211",
     "status": "completed"
    },
    "tags": []
   },
   "source": [
    "### Following are the list of algorithms that are used in this notebook.\n",
    "\n",
    "|    Algorithm         | \n",
    "| -------------------- | \n",
    "| Logistic Regression  |\n",
    "| Linear Regression|\n",
    "| Decision Tree|\n",
    "| Random Forest|\n",
    "| XGBoost|\n",
    "| AdaBoost|\n",
    "| SVM|\n",
    "| ANN|"
   ]
  },
  {
   "cell_type": "code",
   "execution_count": 4,
   "id": "ee0aa587",
   "metadata": {
    "execution": {
     "iopub.execute_input": "2021-08-18T08:08:58.878153Z",
     "iopub.status.busy": "2021-08-18T08:08:58.876985Z",
     "iopub.status.idle": "2021-08-18T08:08:58.882046Z",
     "shell.execute_reply": "2021-08-18T08:08:58.881334Z",
     "shell.execute_reply.started": "2021-08-18T08:07:04.013022Z"
    },
    "papermill": {
     "duration": 0.091501,
     "end_time": "2021-08-18T08:08:58.882239",
     "exception": false,
     "start_time": "2021-08-18T08:08:58.790738",
     "status": "completed"
    },
    "tags": []
   },
   "outputs": [
    {
     "name": "stdout",
     "output_type": "stream",
     "text": [
      "(3276, 10)\n"
     ]
    }
   ],
   "source": [
    "print(df.shape)"
   ]
  },
  {
   "cell_type": "code",
   "execution_count": 5,
   "id": "a80fa6a8",
   "metadata": {
    "execution": {
     "iopub.execute_input": "2021-08-18T08:08:59.062522Z",
     "iopub.status.busy": "2021-08-18T08:08:59.061438Z",
     "iopub.status.idle": "2021-08-18T08:08:59.066173Z",
     "shell.execute_reply": "2021-08-18T08:08:59.065488Z",
     "shell.execute_reply.started": "2021-08-18T08:07:04.094292Z"
    },
    "papermill": {
     "duration": 0.099199,
     "end_time": "2021-08-18T08:08:59.066334",
     "exception": false,
     "start_time": "2021-08-18T08:08:58.967135",
     "status": "completed"
    },
    "tags": []
   },
   "outputs": [
    {
     "name": "stdout",
     "output_type": "stream",
     "text": [
      "Index(['ph', 'Hardness', 'Solids', 'Chloramines', 'Sulfate', 'Conductivity',\n",
      "       'Organic_carbon', 'Trihalomethanes', 'Turbidity', 'Potability'],\n",
      "      dtype='object')\n"
     ]
    }
   ],
   "source": [
    "print(df.columns)"
   ]
  },
  {
   "cell_type": "code",
   "execution_count": 6,
   "id": "90c3c643",
   "metadata": {
    "execution": {
     "iopub.execute_input": "2021-08-18T08:08:59.250029Z",
     "iopub.status.busy": "2021-08-18T08:08:59.243077Z",
     "iopub.status.idle": "2021-08-18T08:08:59.296132Z",
     "shell.execute_reply": "2021-08-18T08:08:59.295589Z",
     "shell.execute_reply.started": "2021-08-18T08:07:04.174881Z"
    },
    "papermill": {
     "duration": 0.143566,
     "end_time": "2021-08-18T08:08:59.296291",
     "exception": false,
     "start_time": "2021-08-18T08:08:59.152725",
     "status": "completed"
    },
    "tags": []
   },
   "outputs": [
    {
     "data": {
      "text/html": [
       "<div>\n",
       "<style scoped>\n",
       "    .dataframe tbody tr th:only-of-type {\n",
       "        vertical-align: middle;\n",
       "    }\n",
       "\n",
       "    .dataframe tbody tr th {\n",
       "        vertical-align: top;\n",
       "    }\n",
       "\n",
       "    .dataframe thead th {\n",
       "        text-align: right;\n",
       "    }\n",
       "</style>\n",
       "<table border=\"1\" class=\"dataframe\">\n",
       "  <thead>\n",
       "    <tr style=\"text-align: right;\">\n",
       "      <th></th>\n",
       "      <th>ph</th>\n",
       "      <th>Hardness</th>\n",
       "      <th>Solids</th>\n",
       "      <th>Chloramines</th>\n",
       "      <th>Sulfate</th>\n",
       "      <th>Conductivity</th>\n",
       "      <th>Organic_carbon</th>\n",
       "      <th>Trihalomethanes</th>\n",
       "      <th>Turbidity</th>\n",
       "      <th>Potability</th>\n",
       "    </tr>\n",
       "  </thead>\n",
       "  <tbody>\n",
       "    <tr>\n",
       "      <th>count</th>\n",
       "      <td>2785.000000</td>\n",
       "      <td>3276.000000</td>\n",
       "      <td>3276.000000</td>\n",
       "      <td>3276.000000</td>\n",
       "      <td>2495.000000</td>\n",
       "      <td>3276.000000</td>\n",
       "      <td>3276.000000</td>\n",
       "      <td>3114.000000</td>\n",
       "      <td>3276.000000</td>\n",
       "      <td>3276.000000</td>\n",
       "    </tr>\n",
       "    <tr>\n",
       "      <th>mean</th>\n",
       "      <td>7.080795</td>\n",
       "      <td>196.369496</td>\n",
       "      <td>22014.092526</td>\n",
       "      <td>7.122277</td>\n",
       "      <td>333.775777</td>\n",
       "      <td>426.205111</td>\n",
       "      <td>14.284970</td>\n",
       "      <td>66.396293</td>\n",
       "      <td>3.966786</td>\n",
       "      <td>0.390110</td>\n",
       "    </tr>\n",
       "    <tr>\n",
       "      <th>std</th>\n",
       "      <td>1.594320</td>\n",
       "      <td>32.879761</td>\n",
       "      <td>8768.570828</td>\n",
       "      <td>1.583085</td>\n",
       "      <td>41.416840</td>\n",
       "      <td>80.824064</td>\n",
       "      <td>3.308162</td>\n",
       "      <td>16.175008</td>\n",
       "      <td>0.780382</td>\n",
       "      <td>0.487849</td>\n",
       "    </tr>\n",
       "    <tr>\n",
       "      <th>min</th>\n",
       "      <td>0.000000</td>\n",
       "      <td>47.432000</td>\n",
       "      <td>320.942611</td>\n",
       "      <td>0.352000</td>\n",
       "      <td>129.000000</td>\n",
       "      <td>181.483754</td>\n",
       "      <td>2.200000</td>\n",
       "      <td>0.738000</td>\n",
       "      <td>1.450000</td>\n",
       "      <td>0.000000</td>\n",
       "    </tr>\n",
       "    <tr>\n",
       "      <th>25%</th>\n",
       "      <td>6.093092</td>\n",
       "      <td>176.850538</td>\n",
       "      <td>15666.690297</td>\n",
       "      <td>6.127421</td>\n",
       "      <td>307.699498</td>\n",
       "      <td>365.734414</td>\n",
       "      <td>12.065801</td>\n",
       "      <td>55.844536</td>\n",
       "      <td>3.439711</td>\n",
       "      <td>0.000000</td>\n",
       "    </tr>\n",
       "    <tr>\n",
       "      <th>50%</th>\n",
       "      <td>7.036752</td>\n",
       "      <td>196.967627</td>\n",
       "      <td>20927.833607</td>\n",
       "      <td>7.130299</td>\n",
       "      <td>333.073546</td>\n",
       "      <td>421.884968</td>\n",
       "      <td>14.218338</td>\n",
       "      <td>66.622485</td>\n",
       "      <td>3.955028</td>\n",
       "      <td>0.000000</td>\n",
       "    </tr>\n",
       "    <tr>\n",
       "      <th>75%</th>\n",
       "      <td>8.062066</td>\n",
       "      <td>216.667456</td>\n",
       "      <td>27332.762127</td>\n",
       "      <td>8.114887</td>\n",
       "      <td>359.950170</td>\n",
       "      <td>481.792304</td>\n",
       "      <td>16.557652</td>\n",
       "      <td>77.337473</td>\n",
       "      <td>4.500320</td>\n",
       "      <td>1.000000</td>\n",
       "    </tr>\n",
       "    <tr>\n",
       "      <th>max</th>\n",
       "      <td>14.000000</td>\n",
       "      <td>323.124000</td>\n",
       "      <td>61227.196008</td>\n",
       "      <td>13.127000</td>\n",
       "      <td>481.030642</td>\n",
       "      <td>753.342620</td>\n",
       "      <td>28.300000</td>\n",
       "      <td>124.000000</td>\n",
       "      <td>6.739000</td>\n",
       "      <td>1.000000</td>\n",
       "    </tr>\n",
       "  </tbody>\n",
       "</table>\n",
       "</div>"
      ],
      "text/plain": [
       "                ph     Hardness        Solids  Chloramines      Sulfate  \\\n",
       "count  2785.000000  3276.000000   3276.000000  3276.000000  2495.000000   \n",
       "mean      7.080795   196.369496  22014.092526     7.122277   333.775777   \n",
       "std       1.594320    32.879761   8768.570828     1.583085    41.416840   \n",
       "min       0.000000    47.432000    320.942611     0.352000   129.000000   \n",
       "25%       6.093092   176.850538  15666.690297     6.127421   307.699498   \n",
       "50%       7.036752   196.967627  20927.833607     7.130299   333.073546   \n",
       "75%       8.062066   216.667456  27332.762127     8.114887   359.950170   \n",
       "max      14.000000   323.124000  61227.196008    13.127000   481.030642   \n",
       "\n",
       "       Conductivity  Organic_carbon  Trihalomethanes    Turbidity   Potability  \n",
       "count   3276.000000     3276.000000      3114.000000  3276.000000  3276.000000  \n",
       "mean     426.205111       14.284970        66.396293     3.966786     0.390110  \n",
       "std       80.824064        3.308162        16.175008     0.780382     0.487849  \n",
       "min      181.483754        2.200000         0.738000     1.450000     0.000000  \n",
       "25%      365.734414       12.065801        55.844536     3.439711     0.000000  \n",
       "50%      421.884968       14.218338        66.622485     3.955028     0.000000  \n",
       "75%      481.792304       16.557652        77.337473     4.500320     1.000000  \n",
       "max      753.342620       28.300000       124.000000     6.739000     1.000000  "
      ]
     },
     "execution_count": 6,
     "metadata": {},
     "output_type": "execute_result"
    }
   ],
   "source": [
    "df.describe()"
   ]
  },
  {
   "cell_type": "code",
   "execution_count": 7,
   "id": "e554804e",
   "metadata": {
    "execution": {
     "iopub.execute_input": "2021-08-18T08:08:59.478919Z",
     "iopub.status.busy": "2021-08-18T08:08:59.467203Z",
     "iopub.status.idle": "2021-08-18T08:08:59.483769Z",
     "shell.execute_reply": "2021-08-18T08:08:59.482685Z",
     "shell.execute_reply.started": "2021-08-18T08:07:04.277539Z"
    },
    "papermill": {
     "duration": 0.105004,
     "end_time": "2021-08-18T08:08:59.484033",
     "exception": false,
     "start_time": "2021-08-18T08:08:59.379029",
     "status": "completed"
    },
    "tags": []
   },
   "outputs": [
    {
     "name": "stdout",
     "output_type": "stream",
     "text": [
      "<class 'pandas.core.frame.DataFrame'>\n",
      "RangeIndex: 3276 entries, 0 to 3275\n",
      "Data columns (total 10 columns):\n",
      " #   Column           Non-Null Count  Dtype  \n",
      "---  ------           --------------  -----  \n",
      " 0   ph               2785 non-null   float64\n",
      " 1   Hardness         3276 non-null   float64\n",
      " 2   Solids           3276 non-null   float64\n",
      " 3   Chloramines      3276 non-null   float64\n",
      " 4   Sulfate          2495 non-null   float64\n",
      " 5   Conductivity     3276 non-null   float64\n",
      " 6   Organic_carbon   3276 non-null   float64\n",
      " 7   Trihalomethanes  3114 non-null   float64\n",
      " 8   Turbidity        3276 non-null   float64\n",
      " 9   Potability       3276 non-null   int64  \n",
      "dtypes: float64(9), int64(1)\n",
      "memory usage: 256.1 KB\n"
     ]
    }
   ],
   "source": [
    "df.info()"
   ]
  },
  {
   "cell_type": "code",
   "execution_count": 8,
   "id": "d10b6b8c",
   "metadata": {
    "execution": {
     "iopub.execute_input": "2021-08-18T08:08:59.657127Z",
     "iopub.status.busy": "2021-08-18T08:08:59.656372Z",
     "iopub.status.idle": "2021-08-18T08:08:59.670888Z",
     "shell.execute_reply": "2021-08-18T08:08:59.671941Z",
     "shell.execute_reply.started": "2021-08-18T08:07:04.354576Z"
    },
    "papermill": {
     "duration": 0.104315,
     "end_time": "2021-08-18T08:08:59.672256",
     "exception": false,
     "start_time": "2021-08-18T08:08:59.567941",
     "status": "completed"
    },
    "tags": []
   },
   "outputs": [
    {
     "name": "stdout",
     "output_type": "stream",
     "text": [
      "ph                 2785\n",
      "Hardness           3276\n",
      "Solids             3276\n",
      "Chloramines        3276\n",
      "Sulfate            2495\n",
      "Conductivity       3276\n",
      "Organic_carbon     3276\n",
      "Trihalomethanes    3114\n",
      "Turbidity          3276\n",
      "Potability            2\n",
      "dtype: int64\n"
     ]
    }
   ],
   "source": [
    "print(df.nunique())"
   ]
  },
  {
   "cell_type": "code",
   "execution_count": 9,
   "id": "85f410b8",
   "metadata": {
    "execution": {
     "iopub.execute_input": "2021-08-18T08:08:59.846722Z",
     "iopub.status.busy": "2021-08-18T08:08:59.845836Z",
     "iopub.status.idle": "2021-08-18T08:08:59.850836Z",
     "shell.execute_reply": "2021-08-18T08:08:59.849916Z",
     "shell.execute_reply.started": "2021-08-18T08:07:04.458408Z"
    },
    "papermill": {
     "duration": 0.094155,
     "end_time": "2021-08-18T08:08:59.851034",
     "exception": false,
     "start_time": "2021-08-18T08:08:59.756879",
     "status": "completed"
    },
    "tags": []
   },
   "outputs": [
    {
     "name": "stdout",
     "output_type": "stream",
     "text": [
      "ph                 491\n",
      "Hardness             0\n",
      "Solids               0\n",
      "Chloramines          0\n",
      "Sulfate            781\n",
      "Conductivity         0\n",
      "Organic_carbon       0\n",
      "Trihalomethanes    162\n",
      "Turbidity            0\n",
      "Potability           0\n",
      "dtype: int64\n"
     ]
    }
   ],
   "source": [
    "print(df.isnull().sum())"
   ]
  },
  {
   "cell_type": "code",
   "execution_count": 10,
   "id": "91a6c2b5",
   "metadata": {
    "execution": {
     "iopub.execute_input": "2021-08-18T08:09:00.026668Z",
     "iopub.status.busy": "2021-08-18T08:09:00.025588Z",
     "iopub.status.idle": "2021-08-18T08:09:00.030775Z",
     "shell.execute_reply": "2021-08-18T08:09:00.030059Z",
     "shell.execute_reply.started": "2021-08-18T08:07:04.533594Z"
    },
    "papermill": {
     "duration": 0.096485,
     "end_time": "2021-08-18T08:09:00.030924",
     "exception": false,
     "start_time": "2021-08-18T08:08:59.934439",
     "status": "completed"
    },
    "tags": []
   },
   "outputs": [
    {
     "data": {
      "text/plain": [
       "ph                 float64\n",
       "Hardness           float64\n",
       "Solids             float64\n",
       "Chloramines        float64\n",
       "Sulfate            float64\n",
       "Conductivity       float64\n",
       "Organic_carbon     float64\n",
       "Trihalomethanes    float64\n",
       "Turbidity          float64\n",
       "Potability           int64\n",
       "dtype: object"
      ]
     },
     "execution_count": 10,
     "metadata": {},
     "output_type": "execute_result"
    }
   ],
   "source": [
    "df.dtypes"
   ]
  },
  {
   "cell_type": "code",
   "execution_count": 11,
   "id": "6f7681a6",
   "metadata": {
    "execution": {
     "iopub.execute_input": "2021-08-18T08:09:00.205474Z",
     "iopub.status.busy": "2021-08-18T08:09:00.204583Z",
     "iopub.status.idle": "2021-08-18T08:09:00.780378Z",
     "shell.execute_reply": "2021-08-18T08:09:00.780908Z",
     "shell.execute_reply.started": "2021-08-18T08:07:04.634490Z"
    },
    "papermill": {
     "duration": 0.666663,
     "end_time": "2021-08-18T08:09:00.781098",
     "exception": false,
     "start_time": "2021-08-18T08:09:00.114435",
     "status": "completed"
    },
    "tags": []
   },
   "outputs": [
    {
     "data": {
      "text/plain": [
       "<AxesSubplot:>"
      ]
     },
     "execution_count": 11,
     "metadata": {},
     "output_type": "execute_result"
    },
    {
     "data": {
      "image/png": "[encoded data removed]",
      "text/plain": [
       "<Figure size 432x288 with 2 Axes>"
      ]
     },
     "metadata": {
      "needs_background": "light"
     },
     "output_type": "display_data"
    }
   ],
   "source": [
    "sns.heatmap(df.isnull())"
   ]
  },
  {
   "cell_type": "code",
   "execution_count": 12,
   "id": "301e0c51",
   "metadata": {
    "execution": {
     "iopub.execute_input": "2021-08-18T08:09:00.955338Z",
     "iopub.status.busy": "2021-08-18T08:09:00.954255Z",
     "iopub.status.idle": "2021-08-18T08:09:01.959548Z",
     "shell.execute_reply": "2021-08-18T08:09:01.960070Z",
     "shell.execute_reply.started": "2021-08-18T08:07:05.138823Z"
    },
    "papermill": {
     "duration": 1.094225,
     "end_time": "2021-08-18T08:09:01.960246",
     "exception": false,
     "start_time": "2021-08-18T08:09:00.866021",
     "status": "completed"
    },
    "tags": []
   },
   "outputs": [
    {
     "data": {
      "text/plain": [
       "<AxesSubplot:>"
      ]
     },
     "execution_count": 12,
     "metadata": {},
     "output_type": "execute_result"
    },
    {
     "data": {
      "image/png": "[encoded data removed]",
      "text/plain": [
       "<Figure size 720x576 with 2 Axes>"
      ]
     },
     "metadata": {
      "needs_background": "light"
     },
     "output_type": "display_data"
    }
   ],
   "source": [
    "plt.figure(figsize=(10, 8))\n",
    "sns.heatmap(df.corr(), annot= True, cmap='coolwarm')"
   ]
  },
  {
   "cell_type": "code",
   "execution_count": 13,
   "id": "3e78aa97",
   "metadata": {
    "execution": {
     "iopub.execute_input": "2021-08-18T08:09:02.141826Z",
     "iopub.status.busy": "2021-08-18T08:09:02.141066Z",
     "iopub.status.idle": "2021-08-18T08:09:02.154288Z",
     "shell.execute_reply": "2021-08-18T08:09:02.154866Z",
     "shell.execute_reply.started": "2021-08-18T08:07:06.093120Z"
    },
    "papermill": {
     "duration": 0.105673,
     "end_time": "2021-08-18T08:09:02.155052",
     "exception": false,
     "start_time": "2021-08-18T08:09:02.049379",
     "status": "completed"
    },
    "tags": []
   },
   "outputs": [
    {
     "data": {
      "text/plain": [
       "Hardness  Sulfate           0.106923\n",
       "ph        Solids            0.089288\n",
       "Hardness  ph                0.082096\n",
       "Solids    Chloramines       0.070148\n",
       "Hardness  Solids            0.046899\n",
       "ph        Organic_carbon    0.043503\n",
       "dtype: float64"
      ]
     },
     "execution_count": 13,
     "metadata": {},
     "output_type": "execute_result"
    }
   ],
   "source": [
    "# Unstacking the correlation matrix to see the values more clearly.\n",
    "corr = df.corr()\n",
    "c1 = corr.abs().unstack()\n",
    "c1.sort_values(ascending = False)[12:24:2]"
   ]
  },
  {
   "cell_type": "code",
   "execution_count": 14,
   "id": "2261a066",
   "metadata": {
    "execution": {
     "iopub.execute_input": "2021-08-18T08:09:02.334542Z",
     "iopub.status.busy": "2021-08-18T08:09:02.333890Z",
     "iopub.status.idle": "2021-08-18T08:09:02.468354Z",
     "shell.execute_reply": "2021-08-18T08:09:02.468965Z",
     "shell.execute_reply.started": "2021-08-18T08:07:06.109253Z"
    },
    "papermill": {
     "duration": 0.226483,
     "end_time": "2021-08-18T08:09:02.469159",
     "exception": false,
     "start_time": "2021-08-18T08:09:02.242676",
     "status": "completed"
    },
    "tags": []
   },
   "outputs": [
    {
     "data": {
      "image/png": "[encoded data removed]",
      "text/plain": [
       "<Figure size 432x288 with 1 Axes>"
      ]
     },
     "metadata": {
      "needs_background": "light"
     },
     "output_type": "display_data"
    }
   ],
   "source": [
    "ax = sns.countplot(x = \"Potability\",data= df, saturation=0.8)\n",
    "plt.xticks(ticks=[0, 1], labels = [\"Not Potable\", \"Potable\"])\n",
    "plt.show()"
   ]
  },
  {
   "cell_type": "code",
   "execution_count": 15,
   "id": "44d48272",
   "metadata": {
    "execution": {
     "iopub.execute_input": "2021-08-18T08:09:02.654118Z",
     "iopub.status.busy": "2021-08-18T08:09:02.653347Z",
     "iopub.status.idle": "2021-08-18T08:09:02.661166Z",
     "shell.execute_reply": "2021-08-18T08:09:02.660492Z",
     "shell.execute_reply.started": "2021-08-18T08:07:06.249303Z"
    },
    "papermill": {
     "duration": 0.103076,
     "end_time": "2021-08-18T08:09:02.661319",
     "exception": false,
     "start_time": "2021-08-18T08:09:02.558243",
     "status": "completed"
    },
    "tags": []
   },
   "outputs": [
    {
     "name": "stdout",
     "output_type": "stream",
     "text": [
      "0    1998\n",
      "1    1278\n",
      "Name: Potability, dtype: int64\n"
     ]
    }
   ],
   "source": [
    "x = df.Potability.value_counts()\n",
    "labels = [0,1]\n",
    "print(x)"
   ]
  },
  {
   "cell_type": "code",
   "execution_count": 16,
   "id": "c8afaab2",
   "metadata": {
    "execution": {
     "iopub.execute_input": "2021-08-18T08:09:51.620765Z",
     "iopub.status.busy": "2021-08-18T08:09:51.619948Z",
     "iopub.status.idle": "2021-08-18T08:09:51.958662Z",
     "shell.execute_reply": "2021-08-18T08:09:51.957451Z",
     "shell.execute_reply.started": "2021-08-18T08:07:52.225505Z"
    },
    "papermill": {
     "duration": 0.510294,
     "end_time": "2021-08-18T08:09:51.958822",
     "exception": false,
     "start_time": "2021-08-18T08:09:51.448528",
     "status": "completed"
    },
    "tags": []
   },
   "outputs": [
    {
     "data": {
      "text/plain": [
       "array([<AxesSubplot:title={'center':'0'}>,\n",
       "       <AxesSubplot:title={'center':'1'}>], dtype=object)"
      ]
     },
     "execution_count": 16,
     "metadata": {},
     "output_type": "execute_result"
    },
    {
     "data": {
      "image/png": "[encoded data removed]",
      "text/plain": [
       "<Figure size 432x288 with 2 Axes>"
      ]
     },
     "metadata": {
      "needs_background": "light"
     },
     "output_type": "display_data"
    }
   ],
   "source": [
    "df.hist(column='ph', by='Potability')"
   ]
  },
  {
   "cell_type": "code",
   "execution_count": 17,
   "id": "3e338802",
   "metadata": {
    "execution": {
     "iopub.execute_input": "2021-08-18T08:09:52.306246Z",
     "iopub.status.busy": "2021-08-18T08:09:52.305115Z",
     "iopub.status.idle": "2021-08-18T08:09:52.678451Z",
     "shell.execute_reply": "2021-08-18T08:09:52.677886Z",
     "shell.execute_reply.started": "2021-08-18T08:07:52.554107Z"
    },
    "papermill": {
     "duration": 0.548635,
     "end_time": "2021-08-18T08:09:52.678625",
     "exception": false,
     "start_time": "2021-08-18T08:09:52.129990",
     "status": "completed"
    },
    "tags": []
   },
   "outputs": [
    {
     "data": {
      "text/plain": [
       "array([<AxesSubplot:title={'center':'0'}>,\n",
       "       <AxesSubplot:title={'center':'1'}>], dtype=object)"
      ]
     },
     "execution_count": 17,
     "metadata": {},
     "output_type": "execute_result"
    },
    {
     "data": {
      "image/png": "[encoded data removed]",
      "text/plain": [
       "<Figure size 432x288 with 2 Axes>"
      ]
     },
     "metadata": {
      "needs_background": "light"
     },
     "output_type": "display_data"
    }
   ],
   "source": [
    "df.hist(column='Hardness', by='Potability')"
   ]
  },
  {
   "cell_type": "code",
   "execution_count": 18,
   "id": "787f9d9c",
   "metadata": {
    "execution": {
     "iopub.execute_input": "2021-08-18T08:09:54.281323Z",
     "iopub.status.busy": "2021-08-18T08:09:54.280623Z",
     "iopub.status.idle": "2021-08-18T08:09:54.292922Z",
     "shell.execute_reply": "2021-08-18T08:09:54.293519Z",
     "shell.execute_reply.started": "2021-08-18T08:07:53.297186Z"
    },
    "papermill": {
     "duration": 0.186867,
     "end_time": "2021-08-18T08:09:54.293712",
     "exception": false,
     "start_time": "2021-08-18T08:09:54.106845",
     "status": "completed"
    },
    "tags": []
   },
   "outputs": [
    {
     "data": {
      "text/plain": [
       "ph                 2785\n",
       "Hardness           3276\n",
       "Solids             3276\n",
       "Chloramines        3276\n",
       "Sulfate            2495\n",
       "Conductivity       3276\n",
       "Organic_carbon     3276\n",
       "Trihalomethanes    3114\n",
       "Turbidity          3276\n",
       "Potability            2\n",
       "dtype: int64"
      ]
     },
     "execution_count": 18,
     "metadata": {},
     "output_type": "execute_result"
    }
   ],
   "source": [
    "df.nunique()"
   ]
  },
  {
   "cell_type": "code",
   "execution_count": 19,
   "id": "0c734a67",
   "metadata": {
    "execution": {
     "iopub.execute_input": "2021-08-18T08:10:02.214872Z",
     "iopub.status.busy": "2021-08-18T08:10:02.214066Z",
     "iopub.status.idle": "2021-08-18T08:10:02.478774Z",
     "shell.execute_reply": "2021-08-18T08:10:02.478043Z",
     "shell.execute_reply.started": "2021-08-18T08:07:55.178944Z"
    },
    "papermill": {
     "duration": 0.474675,
     "end_time": "2021-08-18T08:10:02.478934",
     "exception": false,
     "start_time": "2021-08-18T08:10:02.004259",
     "status": "completed"
    },
    "tags": []
   },
   "outputs": [
    {
     "data": {
      "image/png": "[encoded data removed]",
      "text/plain": [
       "<Figure size 720x432 with 1 Axes>"
      ]
     },
     "metadata": {
      "needs_background": "light"
     },
     "output_type": "display_data"
    }
   ],
   "source": [
    "df.isnull().mean().plot.bar(figsize=(10,6)) \n",
    "plt.ylabel('Percentage of missing values') \n",
    "plt.xlabel('Features') \n",
    "plt.title('Missing Data in Percentages');"
   ]
  },
  {
   "cell_type": "code",
   "execution_count": 20,
   "id": "f5220b25",
   "metadata": {
    "execution": {
     "iopub.execute_input": "2021-08-18T08:10:02.872328Z",
     "iopub.status.busy": "2021-08-18T08:10:02.871233Z",
     "iopub.status.idle": "2021-08-18T08:10:02.875205Z",
     "shell.execute_reply": "2021-08-18T08:10:02.875761Z",
     "shell.execute_reply.started": "2021-08-18T08:07:55.409019Z"
    },
    "papermill": {
     "duration": 0.203352,
     "end_time": "2021-08-18T08:10:02.875942",
     "exception": false,
     "start_time": "2021-08-18T08:10:02.672590",
     "status": "completed"
    },
    "tags": []
   },
   "outputs": [],
   "source": [
    "df['ph'] = df['ph'].fillna(df['ph'].mean())\n",
    "df['Sulfate'] = df['Sulfate'].fillna(df['Sulfate'].mean())\n",
    "df['Trihalomethanes'] = df['Trihalomethanes'].fillna(df['Trihalomethanes'].mean())"
   ]
  },
  {
   "cell_type": "code",
   "execution_count": 21,
   "id": "56e26a94",
   "metadata": {
    "execution": {
     "iopub.execute_input": "2021-08-18T08:10:03.272135Z",
     "iopub.status.busy": "2021-08-18T08:10:03.271420Z",
     "iopub.status.idle": "2021-08-18T08:10:03.275318Z",
     "shell.execute_reply": "2021-08-18T08:10:03.274662Z",
     "shell.execute_reply.started": "2021-08-18T08:07:55.417285Z"
    },
    "papermill": {
     "duration": 0.21089,
     "end_time": "2021-08-18T08:10:03.275473",
     "exception": false,
     "start_time": "2021-08-18T08:10:03.064583",
     "status": "completed"
    },
    "tags": []
   },
   "outputs": [
    {
     "data": {
      "text/html": [
       "<div>\n",
       "<style scoped>\n",
       "    .dataframe tbody tr th:only-of-type {\n",
       "        vertical-align: middle;\n",
       "    }\n",
       "\n",
       "    .dataframe tbody tr th {\n",
       "        vertical-align: top;\n",
       "    }\n",
       "\n",
       "    .dataframe thead th {\n",
       "        text-align: right;\n",
       "    }\n",
       "</style>\n",
       "<table border=\"1\" class=\"dataframe\">\n",
       "  <thead>\n",
       "    <tr style=\"text-align: right;\">\n",
       "      <th></th>\n",
       "      <th>ph</th>\n",
       "      <th>Hardness</th>\n",
       "      <th>Solids</th>\n",
       "      <th>Chloramines</th>\n",
       "      <th>Sulfate</th>\n",
       "      <th>Conductivity</th>\n",
       "      <th>Organic_carbon</th>\n",
       "      <th>Trihalomethanes</th>\n",
       "      <th>Turbidity</th>\n",
       "      <th>Potability</th>\n",
       "    </tr>\n",
       "  </thead>\n",
       "  <tbody>\n",
       "    <tr>\n",
       "      <th>0</th>\n",
       "      <td>7.080795</td>\n",
       "      <td>204.890455</td>\n",
       "      <td>20791.318981</td>\n",
       "      <td>7.300212</td>\n",
       "      <td>368.516441</td>\n",
       "      <td>564.308654</td>\n",
       "      <td>10.379783</td>\n",
       "      <td>86.990970</td>\n",
       "      <td>2.963135</td>\n",
       "      <td>0</td>\n",
       "    </tr>\n",
       "    <tr>\n",
       "      <th>1</th>\n",
       "      <td>3.716080</td>\n",
       "      <td>129.422921</td>\n",
       "      <td>18630.057858</td>\n",
       "      <td>6.635246</td>\n",
       "      <td>333.775777</td>\n",
       "      <td>592.885359</td>\n",
       "      <td>15.180013</td>\n",
       "      <td>56.329076</td>\n",
       "      <td>4.500656</td>\n",
       "      <td>0</td>\n",
       "    </tr>\n",
       "    <tr>\n",
       "      <th>2</th>\n",
       "      <td>8.099124</td>\n",
       "      <td>224.236259</td>\n",
       "      <td>19909.541732</td>\n",
       "      <td>9.275884</td>\n",
       "      <td>333.775777</td>\n",
       "      <td>418.606213</td>\n",
       "      <td>16.868637</td>\n",
       "      <td>66.420093</td>\n",
       "      <td>3.055934</td>\n",
       "      <td>0</td>\n",
       "    </tr>\n",
       "    <tr>\n",
       "      <th>3</th>\n",
       "      <td>8.316766</td>\n",
       "      <td>214.373394</td>\n",
       "      <td>22018.417441</td>\n",
       "      <td>8.059332</td>\n",
       "      <td>356.886136</td>\n",
       "      <td>363.266516</td>\n",
       "      <td>18.436524</td>\n",
       "      <td>100.341674</td>\n",
       "      <td>4.628771</td>\n",
       "      <td>0</td>\n",
       "    </tr>\n",
       "    <tr>\n",
       "      <th>4</th>\n",
       "      <td>9.092223</td>\n",
       "      <td>181.101509</td>\n",
       "      <td>17978.986339</td>\n",
       "      <td>6.546600</td>\n",
       "      <td>310.135738</td>\n",
       "      <td>398.410813</td>\n",
       "      <td>11.558279</td>\n",
       "      <td>31.997993</td>\n",
       "      <td>4.075075</td>\n",
       "      <td>0</td>\n",
       "    </tr>\n",
       "  </tbody>\n",
       "</table>\n",
       "</div>"
      ],
      "text/plain": [
       "         ph    Hardness        Solids  Chloramines     Sulfate  Conductivity  \\\n",
       "0  7.080795  204.890455  20791.318981     7.300212  368.516441    564.308654   \n",
       "1  3.716080  129.422921  18630.057858     6.635246  333.775777    592.885359   \n",
       "2  8.099124  224.236259  19909.541732     9.275884  333.775777    418.606213   \n",
       "3  8.316766  214.373394  22018.417441     8.059332  356.886136    363.266516   \n",
       "4  9.092223  181.101509  17978.986339     6.546600  310.135738    398.410813   \n",
       "\n",
       "   Organic_carbon  Trihalomethanes  Turbidity  Potability  \n",
       "0       10.379783        86.990970   2.963135           0  \n",
       "1       15.180013        56.329076   4.500656           0  \n",
       "2       16.868637        66.420093   3.055934           0  \n",
       "3       18.436524       100.341674   4.628771           0  \n",
       "4       11.558279        31.997993   4.075075           0  "
      ]
     },
     "execution_count": 21,
     "metadata": {},
     "output_type": "execute_result"
    }
   ],
   "source": [
    "df.head()"
   ]
  },
  {
   "cell_type": "code",
   "execution_count": 22,
   "id": "ab918264",
   "metadata": {
    "execution": {
     "iopub.execute_input": "2021-08-18T08:10:04.673764Z",
     "iopub.status.busy": "2021-08-18T08:10:04.673081Z",
     "iopub.status.idle": "2021-08-18T08:10:04.680050Z",
     "shell.execute_reply": "2021-08-18T08:10:04.680584Z",
     "shell.execute_reply.started": "2021-08-18T08:07:56.029530Z"
    },
    "papermill": {
     "duration": 0.203404,
     "end_time": "2021-08-18T08:10:04.680769",
     "exception": false,
     "start_time": "2021-08-18T08:10:04.477365",
     "status": "completed"
    },
    "tags": []
   },
   "outputs": [
    {
     "data": {
      "text/plain": [
       "ph                 0\n",
       "Hardness           0\n",
       "Solids             0\n",
       "Chloramines        0\n",
       "Sulfate            0\n",
       "Conductivity       0\n",
       "Organic_carbon     0\n",
       "Trihalomethanes    0\n",
       "Turbidity          0\n",
       "Potability         0\n",
       "dtype: int64"
      ]
     },
     "execution_count": 22,
     "metadata": {},
     "output_type": "execute_result"
    }
   ],
   "source": [
    "df.isnull().sum()"
   ]
  },
  {
   "cell_type": "code",
   "execution_count": 23,
   "id": "a1d44dc3",
   "metadata": {
    "execution": {
     "iopub.execute_input": "2021-08-18T08:10:05.070065Z",
     "iopub.status.busy": "2021-08-18T08:10:05.069325Z",
     "iopub.status.idle": "2021-08-18T08:10:05.075179Z",
     "shell.execute_reply": "2021-08-18T08:10:05.075743Z",
     "shell.execute_reply.started": "2021-08-18T08:07:56.042114Z"
    },
    "papermill": {
     "duration": 0.202351,
     "end_time": "2021-08-18T08:10:05.075926",
     "exception": false,
     "start_time": "2021-08-18T08:10:04.873575",
     "status": "completed"
    },
    "tags": []
   },
   "outputs": [],
   "source": [
    "X = df.drop('Potability', axis=1)\n",
    "y = df['Potability']"
   ]
  },
  {
   "cell_type": "code",
   "execution_count": 24,
   "id": "04ec9281",
   "metadata": {
    "execution": {
     "iopub.execute_input": "2021-08-18T08:10:05.463362Z",
     "iopub.status.busy": "2021-08-18T08:10:05.462469Z",
     "iopub.status.idle": "2021-08-18T08:10:05.467055Z",
     "shell.execute_reply": "2021-08-18T08:10:05.466488Z",
     "shell.execute_reply.started": "2021-08-18T08:07:56.057299Z"
    },
    "papermill": {
     "duration": 0.201418,
     "end_time": "2021-08-18T08:10:05.467209",
     "exception": false,
     "start_time": "2021-08-18T08:10:05.265791",
     "status": "completed"
    },
    "tags": []
   },
   "outputs": [
    {
     "data": {
      "text/plain": [
       "((3276, 9), (3276,))"
      ]
     },
     "execution_count": 24,
     "metadata": {},
     "output_type": "execute_result"
    }
   ],
   "source": [
    "X.shape, y.shape"
   ]
  },
  {
   "cell_type": "code",
   "execution_count": 25,
   "id": "618c86fa",
   "metadata": {
    "execution": {
     "iopub.execute_input": "2021-08-18T08:10:05.862464Z",
     "iopub.status.busy": "2021-08-18T08:10:05.861617Z",
     "iopub.status.idle": "2021-08-18T08:10:05.938486Z",
     "shell.execute_reply": "2021-08-18T08:10:05.937771Z",
     "shell.execute_reply.started": "2021-08-18T08:07:56.073835Z"
    },
    "papermill": {
     "duration": 0.275901,
     "end_time": "2021-08-18T08:10:05.938671",
     "exception": false,
     "start_time": "2021-08-18T08:10:05.662770",
     "status": "completed"
    },
    "tags": []
   },
   "outputs": [],
   "source": [
    "scaler = StandardScaler()"
   ]
  },
  {
   "cell_type": "code",
   "execution_count": 26,
   "id": "cdaf6361",
   "metadata": {
    "execution": {
     "iopub.execute_input": "2021-08-18T08:10:06.329054Z",
     "iopub.status.busy": "2021-08-18T08:10:06.328317Z",
     "iopub.status.idle": "2021-08-18T08:10:06.340133Z",
     "shell.execute_reply": "2021-08-18T08:10:06.340684Z",
     "shell.execute_reply.started": "2021-08-18T08:07:56.086929Z"
    },
    "papermill": {
     "duration": 0.208055,
     "end_time": "2021-08-18T08:10:06.340862",
     "exception": false,
     "start_time": "2021-08-18T08:10:06.132807",
     "status": "completed"
    },
    "tags": []
   },
   "outputs": [
    {
     "data": {
      "text/plain": [
       "array([[-1.02733269e-14,  2.59194711e-01, -1.39470871e-01, ...,\n",
       "        -1.18065057e+00,  1.30614943e+00, -1.28629758e+00],\n",
       "       [-2.28933938e+00, -2.03641367e+00, -3.85986650e-01, ...,\n",
       "         2.70597240e-01, -6.38479983e-01,  6.84217891e-01],\n",
       "       [ 6.92867789e-01,  8.47664833e-01, -2.40047337e-01, ...,\n",
       "         7.81116857e-01,  1.50940884e-03, -1.16736546e+00],\n",
       "       ...,\n",
       "       [ 1.59125368e+00, -6.26829230e-01,  1.27080989e+00, ...,\n",
       "        -9.81329234e-01,  2.18748247e-01, -8.56006782e-01],\n",
       "       [-1.32951593e+00,  1.04135450e+00, -1.14405809e+00, ...,\n",
       "        -9.42063817e-01,  7.03468419e-01,  9.50797383e-01],\n",
       "       [ 5.40150905e-01, -3.85462310e-02, -5.25811937e-01, ...,\n",
       "         5.60940070e-01,  7.80223466e-01, -2.12445866e+00]])"
      ]
     },
     "execution_count": 26,
     "metadata": {},
     "output_type": "execute_result"
    }
   ],
   "source": [
    "X = scaler.fit_transform(X)\n",
    "X"
   ]
  },
  {
   "cell_type": "code",
   "execution_count": 27,
   "id": "26f2f584",
   "metadata": {
    "execution": {
     "iopub.execute_input": "2021-08-18T08:10:06.731161Z",
     "iopub.status.busy": "2021-08-18T08:10:06.730159Z",
     "iopub.status.idle": "2021-08-18T08:10:06.799085Z",
     "shell.execute_reply": "2021-08-18T08:10:06.799654Z",
     "shell.execute_reply.started": "2021-08-18T08:07:56.107682Z"
    },
    "papermill": {
     "duration": 0.267945,
     "end_time": "2021-08-18T08:10:06.799868",
     "exception": false,
     "start_time": "2021-08-18T08:10:06.531923",
     "status": "completed"
    },
    "tags": []
   },
   "outputs": [],
   "source": [
    "from sklearn.model_selection import train_test_split"
   ]
  },
  {
   "cell_type": "code",
   "execution_count": 28,
   "id": "df2f19f2",
   "metadata": {
    "execution": {
     "iopub.execute_input": "2021-08-18T08:10:07.189062Z",
     "iopub.status.busy": "2021-08-18T08:10:07.188322Z",
     "iopub.status.idle": "2021-08-18T08:10:07.192839Z",
     "shell.execute_reply": "2021-08-18T08:10:07.193407Z",
     "shell.execute_reply.started": "2021-08-18T08:07:56.115604Z"
    },
    "papermill": {
     "duration": 0.203023,
     "end_time": "2021-08-18T08:10:07.193610",
     "exception": false,
     "start_time": "2021-08-18T08:10:06.990587",
     "status": "completed"
    },
    "tags": []
   },
   "outputs": [],
   "source": [
    "X_train, X_test, y_train, y_test = train_test_split(X, y, test_size=0.33, random_state=42)"
   ]
  },
  {
   "cell_type": "markdown",
   "id": "c911dca5",
   "metadata": {},
   "source": [
    "# Model Building"
   ]
  },
  {
   "cell_type": "markdown",
   "id": "ab79844c",
   "metadata": {
    "papermill": {
     "duration": 0.214494,
     "end_time": "2021-08-18T08:10:14.342954",
     "exception": false,
     "start_time": "2021-08-18T08:10:14.128460",
     "status": "completed"
    },
    "tags": []
   },
   "source": [
    "## Using Decision Tree Regressor"
   ]
  },
  {
   "cell_type": "code",
   "execution_count": 30,
   "id": "fc85e046",
   "metadata": {},
   "outputs": [
    {
     "name": "stdout",
     "output_type": "stream",
     "text": [
      "Mean Squared Error (MSE): 0.42\n",
      "Root Mean Squared Error (RMSE): 0.65\n",
      "Mean Absolute Error (MAE): 0.42\n"
     ]
    }
   ],
   "source": [
    "# Initialize the Decision Tree Regressor\n",
    "tree_regressor = DecisionTreeRegressor(random_state=42)\n",
    "\n",
    "# Train the model\n",
    "tree_regressor.fit(X_train, y_train)\n",
    "\n",
    "# Make predictions on the test set\n",
    "predictions = tree_regressor.predict(X_test)\n",
    "\n",
    "# Calculate evaluation metrics\n",
    "dmse = mean_squared_error(y_test, predictions)\n",
    "drmse = np.sqrt(dmse)\n",
    "dmae = mean_absolute_error(y_test, predictions)\n",
    "\n",
    "print(f\"Mean Squared Error (MSE): {dmse:.2f}\")\n",
    "print(f\"Root Mean Squared Error (RMSE): {drmse:.2f}\")\n",
    "print(f\"Mean Absolute Error (MAE): {dmae:.2f}\")\n",
    "#print(f\"R-squared (R2): {r_squared}\")"
   ]
  },
  {
   "cell_type": "markdown",
   "id": "967ca8e9",
   "metadata": {
    "papermill": {
     "duration": 0.194847,
     "end_time": "2021-08-18T08:10:18.033813",
     "exception": false,
     "start_time": "2021-08-18T08:10:17.838966",
     "status": "completed"
    },
    "tags": []
   },
   "source": [
    "## Using Random Forest Regressor"
   ]
  },
  {
   "cell_type": "code",
   "execution_count": 49,
   "id": "b201cfd3",
   "metadata": {},
   "outputs": [
    {
     "name": "stdout",
     "output_type": "stream",
     "text": [
      "Mean Squared Error (MSE): 0.21\n",
      "Root Mean Squared Error (RMSE): 0.46\n",
      "Mean Absolute Error (MAE): 0.43\n"
     ]
    }
   ],
   "source": [
    "# Initialize the Random Forest Regressor\n",
    "rf_regressor = RandomForestRegressor(n_estimators=100, random_state=42)\n",
    "\n",
    "# Train the model\n",
    "rf_regressor.fit(X_train, y_train)\n",
    "\n",
    "# Make predictions on the test set\n",
    "predictions = rf_regressor.predict(X_test)\n",
    "\n",
    "# Calculate evaluation metrics\n",
    "rmse = mean_squared_error(y_test, predictions)\n",
    "rrmse = np.sqrt(rmse)\n",
    "rmae = mean_absolute_error(y_test, predictions)\n",
    "#r_squared = r2_score(y_test, predictions)\n",
    "\n",
    "print(f\"Mean Squared Error (MSE): {rmse:.2f}\")\n",
    "print(f\"Root Mean Squared Error (RMSE): {rrmse:.2f}\")\n",
    "print(f\"Mean Absolute Error (MAE): {rmae:.2f}\")\n",
    "#print(f\"R-squared (R2): {r_squared}\")"
   ]
  },
  {
   "cell_type": "markdown",
   "id": "36ae0128",
   "metadata": {
    "papermill": {
     "duration": 0.201337,
     "end_time": "2021-08-18T08:10:22.550915",
     "exception": false,
     "start_time": "2021-08-18T08:10:22.349578",
     "status": "completed"
    },
    "tags": []
   },
   "source": [
    "## Using XGBoost Regressor"
   ]
  },
  {
   "cell_type": "code",
   "execution_count": 56,
   "id": "f8c669ae",
   "metadata": {},
   "outputs": [
    {
     "name": "stdout",
     "output_type": "stream",
     "text": [
      "Mean Squared Error (MSE): 0.2126\n",
      "Root Mean Squared Error (RMSE): 0.4611\n",
      "Mean Absolute Error (MAE): 0.4330\n"
     ]
    }
   ],
   "source": [
    "# Initializing the XGBRegressor with evaluation metrics\n",
    "xgb_regressor = XGBRegressor(n_estimators=100, learning_rate=0.1, max_depth=3)\n",
    "\n",
    "# Training the model\n",
    "xgb_regressor.fit(X_train, y_train, eval_set=[(X_test, y_test)], eval_metric=['rmse', 'mae'], verbose=False)\n",
    "\n",
    "# Making predictions\n",
    "predictions = xgb_regressor.predict(X_test)\n",
    "\n",
    "# Calculating evaluation metrics\n",
    "xmse = mean_squared_error(y_test, predictions)\n",
    "xrmse = np.sqrt(xmse)\n",
    "xmae = mean_absolute_error(y_test, predictions)\n",
    "\n",
    "print(f\"Mean Squared Error (MSE): {xmse:.4f}\")\n",
    "print(f\"Root Mean Squared Error (RMSE): {xrmse:.4f}\")\n",
    "print(f\"Mean Absolute Error (MAE): {xmae:.4f}\")"
   ]
  },
  {
   "cell_type": "markdown",
   "id": "c8a68fdd",
   "metadata": {
    "papermill": {
     "duration": 0.198891,
     "end_time": "2021-08-18T08:10:27.500629",
     "exception": false,
     "start_time": "2021-08-18T08:10:27.301738",
     "status": "completed"
    },
    "tags": []
   },
   "source": [
    "## Using K Nearest Neighbors"
   ]
  },
  {
   "cell_type": "code",
   "execution_count": 63,
   "id": "cce276d3",
   "metadata": {},
   "outputs": [
    {
     "name": "stdout",
     "output_type": "stream",
     "text": [
      "Mean Squared Error (MSE): 0.2396\n",
      "Root Mean Squared Error (RMSE): 0.4895\n",
      "Mean Absolute Error (MAE): 0.4155\n"
     ]
    }
   ],
   "source": [
    "# Initialize the KNN regressor\n",
    "knn_regressor = KNeighborsRegressor(n_neighbors=5)\n",
    "\n",
    "# Train the model\n",
    "knn_regressor.fit(X_train, y_train)\n",
    "\n",
    "# Make predictions on the test set\n",
    "predictions = knn_regressor.predict(X_test)\n",
    "\n",
    "# Calculating evaluation metrics\n",
    "kmse = mean_squared_error(y_test, predictions)\n",
    "krmse = np.sqrt(kmse)\n",
    "kmae = mean_absolute_error(y_test, predictions)\n",
    "\n",
    "print(f\"Mean Squared Error (MSE): {kmse:.4f}\")\n",
    "print(f\"Root Mean Squared Error (RMSE): {krmse:.4f}\")\n",
    "print(f\"Mean Absolute Error (MAE): {kmae:.4f}\")"
   ]
  },
  {
   "cell_type": "markdown",
   "id": "c7ee370d",
   "metadata": {
    "papermill": {
     "duration": 0.20205,
     "end_time": "2021-08-18T08:10:31.206974",
     "exception": false,
     "start_time": "2021-08-18T08:10:31.004924",
     "status": "completed"
    },
    "tags": []
   },
   "source": [
    "## Using SVM"
   ]
  },
  {
   "cell_type": "code",
   "execution_count": 70,
   "id": "de18902e",
   "metadata": {},
   "outputs": [
    {
     "name": "stdout",
     "output_type": "stream",
     "text": [
      "MSE: 0.3072267019153282\n",
      "RMSE: 0.5542803459580072\n",
      "MAE: 0.39722515361909916\n",
      "Accuracy within +/- 5: 100.00%\n"
     ]
    }
   ],
   "source": [
    "# Initialize the SVR (Support Vector Regression) model\n",
    "svm_regressor = SVR(kernel='linear')  # You can choose different kernels like 'rbf', 'poly', etc.\n",
    "\n",
    "# Train the SVR model\n",
    "svm_regressor.fit(X_train, y_train)\n",
    "\n",
    "# Make predictions on the test set\n",
    "predictions = svm_regressor.predict(X_test)\n",
    "\n",
    "# Calculate evaluation metrics\n",
    "smse = mean_squared_error(y_test, predictions)\n",
    "srmse = np.sqrt(smse)\n",
    "smae = mean_absolute_error(y_test, predictions)\n",
    "#r_squared = r2_score(y_test, predictions)\n",
    "\n",
    "print(f\"MSE: {smse}\")\n",
    "print(f\"RMSE: {srmse}\")\n",
    "print(f\"MAE: {smae}\")\n",
    "#print(f\"R-squared: {r_squared}\")\n",
    "\n",
    "# Additional: Calculating accuracy within a threshold (e.g., +/- 5 units)\n",
    "threshold = 5\n",
    "absolute_diff = abs(y_test - predictions)\n",
    "accurate_predictions = sum(absolute_diff <= threshold)\n",
    "accuracy = (accurate_predictions / len(y_test)) * 100\n",
    "print(f\"Accuracy within +/- {threshold}: {accuracy:.2f}%\")"
   ]
  },
  {
   "cell_type": "markdown",
   "id": "5017c297",
   "metadata": {
    "execution": {
     "iopub.execute_input": "2021-08-18T08:10:35.149987Z",
     "iopub.status.busy": "2021-08-18T08:10:35.149289Z",
     "iopub.status.idle": "2021-08-18T08:10:35.151472Z",
     "shell.execute_reply": "2021-08-18T08:10:35.151989Z",
     "shell.execute_reply.started": "2021-08-18T08:08:03.751700Z"
    },
    "papermill": {
     "duration": 0.217249,
     "end_time": "2021-08-18T08:10:35.152177",
     "exception": false,
     "start_time": "2021-08-18T08:10:34.934928",
     "status": "completed"
    },
    "tags": []
   },
   "source": [
    "## Using AdaBoost Classifier"
   ]
  },
  {
   "cell_type": "code",
   "execution_count": 77,
   "id": "931ca27b",
   "metadata": {},
   "outputs": [
    {
     "name": "stdout",
     "output_type": "stream",
     "text": [
      "MSE: 0.2257291154175667\n",
      "RMSE: 0.4751095825360363\n",
      "MAE: 0.45675796706076266\n"
     ]
    }
   ],
   "source": [
    "# Initialize the AdaBoostRegressor\n",
    "adaboost_regressor = AdaBoostRegressor(n_estimators=100, random_state=42)\n",
    "\n",
    "# Train the AdaBoostRegressor model\n",
    "adaboost_regressor.fit(X_train, y_train)\n",
    "\n",
    "# Make predictions on the test set\n",
    "predictions = adaboost_regressor.predict(X_test)\n",
    "\n",
    "# Calculate evaluation metrics\n",
    "amse = mean_squared_error(y_test, predictions)\n",
    "armse = np.sqrt(amse)\n",
    "amae = mean_absolute_error(y_test, predictions)\n",
    "#r_squared = r2_score(y_test, predictions)\n",
    "\n",
    "print(f\"MSE: {amse}\")\n",
    "print(f\"RMSE: {armse}\")\n",
    "print(f\"MAE: {amae}\")\n",
    "#print(f\"R-squared: {r_squared}\")"
   ]
  },
  {
   "cell_type": "markdown",
   "id": "63f629ec",
   "metadata": {},
   "source": [
    "# Linear Regression"
   ]
  },
  {
   "cell_type": "code",
   "execution_count": 84,
   "id": "7d41aea4",
   "metadata": {
    "scrolled": true
   },
   "outputs": [
    {
     "name": "stdout",
     "output_type": "stream",
     "text": [
      "MSE: 0.2338636084905741\n",
      "RMSE: 0.48359446697679875\n",
      "MAE: 0.47316006022701956\n"
     ]
    }
   ],
   "source": [
    "# Initialize the Linear Regression model\n",
    "linear_regressor = LinearRegression()\n",
    "\n",
    "# Train the model\n",
    "linear_regressor.fit(X_train, y_train)\n",
    "\n",
    "# Make predictions on the test set\n",
    "predictions = linear_regressor.predict(X_test)\n",
    "\n",
    "# Calculate evaluation metrics\n",
    "lmse = mean_squared_error(y_test, predictions)\n",
    "lrmse = np.sqrt(lmse)\n",
    "lmae = mean_absolute_error(y_test, predictions)\n",
    "#r_squared = r2_score(y_test, predictions)\n",
    "\n",
    "print(f\"MSE: {lmse}\")\n",
    "print(f\"RMSE: {lrmse}\")\n",
    "print(f\"MAE: {lmae}\")\n",
    "#print(f\"R-squared: {r_squared}\")"
   ]
  },
  {
   "cell_type": "markdown",
   "id": "09d5424d",
   "metadata": {},
   "source": [
    "# ANN"
   ]
  },
  {
   "cell_type": "code",
   "execution_count": 85,
   "id": "475e4be8",
   "metadata": {},
   "outputs": [
    {
     "name": "stdout",
     "output_type": "stream",
     "text": [
      "34/34 [==============================] - 0s 2ms/step\n",
      "Mean Squared Error (MSE): 0.2523\n",
      "Root Mean Squared Error (RMSE): 0.5023\n",
      "Mean Absolute Error (MAE): 0.4392\n"
     ]
    }
   ],
   "source": [
    "# Build the neural network model\n",
    "model = Sequential([\n",
    "    Dense(64, activation='relu', input_shape=(X_train.shape[1],)),\n",
    "    Dense(32, activation='relu'),\n",
    "    Dense(1)  # Output layer with one neuron for regression\n",
    "])\n",
    "\n",
    "# Compile the model\n",
    "model.compile(optimizer='adam', loss='mean_squared_error')  # Use MSE as the loss function\n",
    "\n",
    "# Train the model\n",
    "model.fit(X_train, y_train, epochs=50, batch_size=32, verbose=0)  # Adjust epochs and batch_size as needed\n",
    "\n",
    "# Make predictions\n",
    "predictions = model.predict(X_test)\n",
    "\n",
    "# Calculate evaluation metrics\n",
    "nnmse = mean_squared_error(y_test, predictions)\n",
    "nnrmse = np.sqrt(nnmse)\n",
    "nnmae = mean_absolute_error(y_test, predictions)\n",
    "\n",
    "print(f\"Mean Squared Error (MSE): {nnmse:.4f}\")\n",
    "print(f\"Root Mean Squared Error (RMSE): {nnrmse:.4f}\")\n",
    "print(f\"Mean Absolute Error (MAE): {nnmae:.4f}\")"
   ]
  },
  {
   "cell_type": "markdown",
   "id": "4e80aa5d",
   "metadata": {},
   "source": [
    "### Display Condenced Performance of all the models"
   ]
  },
  {
   "cell_type": "code",
   "execution_count": 86,
   "id": "5d8f3a06",
   "metadata": {
    "execution": {
     "iopub.execute_input": "2021-08-18T08:10:39.943851Z",
     "iopub.status.busy": "2021-08-18T08:10:39.937919Z",
     "iopub.status.idle": "2021-08-18T08:10:40.145611Z",
     "shell.execute_reply": "2021-08-18T08:10:40.144989Z",
     "shell.execute_reply.started": "2021-08-18T08:08:05.255145Z"
    },
    "papermill": {
     "duration": 0.449877,
     "end_time": "2021-08-18T08:10:40.145770",
     "exception": false,
     "start_time": "2021-08-18T08:10:39.695893",
     "status": "completed"
    },
    "tags": []
   },
   "outputs": [
    {
     "name": "stdout",
     "output_type": "stream",
     "text": [
      "               Model       MSE      RMSE       MAE\n",
      "0  Linear Regression  0.233864  0.483594  0.473160\n",
      "1      Decision Tree  0.421442  0.649185  0.421442\n",
      "2      Random Forest  0.210705  0.459026  0.425943\n",
      "3            XGBoost  0.212612  0.461099  0.433013\n",
      "4        KNeighbours  0.239630  0.489520  0.415527\n",
      "5                SVM  0.307227  0.554280  0.397225\n",
      "6           AdaBoost  0.225729  0.475110  0.456758\n",
      "7                ANN  0.252293  0.502288  0.439226\n"
     ]
    },
    {
     "data": {
      "image/png": "[encoded data removed]",
      "text/plain": [
       "<Figure size 720x432 with 1 Axes>"
      ]
     },
     "metadata": {
      "needs_background": "light"
     },
     "output_type": "display_data"
    }
   ],
   "source": [
    "models = pd.DataFrame({\n",
    "    'Model':['Linear Regression', 'Decision Tree', 'Random Forest', 'XGBoost', 'KNeighbours', 'SVM', 'AdaBoost', 'ANN'],\n",
    "    'MSE' :[lmse, dmse, rmse, xmse, kmse, smse, amse, nnmse],\n",
    "    'RMSE' :[lrmse, drmse, rrmse, xrmse, krmse, srmse, armse, nnrmse],\n",
    "    'MAE' :[lmae, dmae, rmae, xmae, kmae, smae, amae, nnmae]\n",
    "})\n",
    "print(models)\n",
    "\n",
    "# Plotting the evaluation metrics using a bar plot\n",
    "#sns.barplot(x='Model', y='MSE', data=models)\n",
    "#plt.xticks(rotation=45)  # Rotate x-axis labels for better readability\n",
    "#plt.show()\n",
    "\n",
    "# Melt the DataFrame to reshape it for Seaborn's barplot\n",
    "models_melted = models.melt(id_vars='Model', var_name='Metric', value_name='Value')\n",
    "\n",
    "# Create a bar plot using the original DataFrame 'models'\n",
    "plt.figure(figsize=(10, 6))  # Adjust the figure size if needed\n",
    "sns.barplot(x='Model', y='Value', hue='Metric', data=models_melted, palette='Set3')\n",
    "plt.xlabel('Model')\n",
    "plt.ylabel('Value')\n",
    "plt.title('Comparison of Metrics by Model')\n",
    "plt.legend(title='Metric')\n",
    "plt.xticks(rotation=45)  # Rotate x-axis labels for better readability if necessary\n",
    "plt.tight_layout()\n",
    "plt.show()"
   ]
  },
  {
   "cell_type": "code",
   "execution_count": null,
   "id": "8e1bb911",
   "metadata": {},
   "outputs": [],
   "source": []
  }
 ],
 "metadata": {
  "kernelspec": {
   "display_name": "Python 3 (ipykernel)",
   "language": "python",
   "name": "python3"
  },
  "language_info": {
   "codemirror_mode": {
    "name": "ipython",
    "version": 3
   },
   "file_extension": ".py",
   "mimetype": "text/x-python",
   "name": "python",
   "nbconvert_exporter": "python",
   "pygments_lexer": "ipython3",
   "version": "3.11.5"
  },
  "papermill": {
   "default_parameters": {},
   "duration": 117.415032,
   "end_time": "2021-08-18T08:10:42.995230",
   "environment_variables": {},
   "exception": null,
   "input_path": "__notebook__.ipynb",
   "output_path": "__notebook__.ipynb",
   "parameters": {},
   "start_time": "2021-08-18T08:08:45.580198",
   "version": "2.3.3"
  }
 },
 "nbformat": 4,
 "nbformat_minor": 5
}
